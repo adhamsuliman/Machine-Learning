{
 "cells": [
  {
   "cell_type": "code",
   "execution_count": 1,
   "metadata": {},
   "outputs": [],
   "source": [
    "import pandas as pd\n",
    "import numpy as np\n",
    "from sklearn.model_selection import train_test_split\n",
    "from sklearn.ensemble import RandomForestClassifier\n",
    "from sklearn.metrics import roc_auc_score, confusion_matrix, classification_report\n",
    "from sklearn.model_selection import GridSearchCV\n",
    "import matplotlib.pyplot as plt"
   ]
  },
  {
   "cell_type": "code",
   "execution_count": 2,
   "metadata": {},
   "outputs": [],
   "source": [
    "#Data Processing:\n",
    "#a) Import the data: shape should be (30000,24)\n",
    "#b) Remove any rows that have missing data.\n",
    "#c) The target / y variable is \"default payment next month\" column. Keep all predictors for the X df except for the target variable. \n",
    "\n",
    "df = pd.read_csv(r'C:\\Users\\u353822\\Documents\\GitHub\\University-of-Chicago1\\University of Chicago\\Machine Learning\\HW 4\\data.csv')\n",
    "df.shape\n",
    "df = df.dropna()\n",
    "X = df.drop(['default payment next month'],axis=1)\n",
    "y = df['default payment next month']"
   ]
  },
  {
   "cell_type": "code",
   "execution_count": 3,
   "metadata": {},
   "outputs": [],
   "source": [
    "#d) Split data into train / test set using an 70/30 split. Recall that you should be generating an X_train, X_test, y_train, and y_test.\n",
    "X_train, X_test, y_train, y_test = train_test_split(X, y, test_size=.3, random_state=42)"
   ]
  },
  {
   "cell_type": "code",
   "execution_count": 4,
   "metadata": {},
   "outputs": [
    {
     "data": {
      "text/plain": [
       "RandomForestClassifier(bootstrap=True, class_weight=None, criterion='gini',\n",
       "            max_depth=None, max_features='auto', max_leaf_nodes=None,\n",
       "            min_impurity_decrease=0.0, min_impurity_split=None,\n",
       "            min_samples_leaf=1, min_samples_split=2,\n",
       "            min_weight_fraction_leaf=0.0, n_estimators=10, n_jobs=1,\n",
       "            oob_score=False, random_state=3, verbose=0, warm_start=False)"
      ]
     },
     "execution_count": 4,
     "metadata": {},
     "output_type": "execute_result"
    }
   ],
   "source": [
    "#2) Random Forest Classifier - Base Model:\n",
    "#a Use the RandomForestClassifier in sklearn. \n",
    "#Fit your model on the training data & make sure to add a random_state \n",
    "clf = RandomForestClassifier(random_state=3)\n",
    "clf.fit(X_train, y_train)\n"
   ]
  },
  {
   "cell_type": "code",
   "execution_count": 5,
   "metadata": {},
   "outputs": [
    {
     "name": "stdout",
     "output_type": "stream",
     "text": [
      "[0 1]\n",
      "[0.         0.025      0.03333333 0.1        0.2        0.25\n",
      " 0.27714286 0.3        0.30833333 0.325      0.36       0.36666667\n",
      " 0.4        0.43333333 0.45       0.46       0.49285714 0.5\n",
      " 0.50714286 0.54       0.55       0.56666667 0.6        0.63333333\n",
      " 0.64       0.675      0.69166667 0.7        0.72285714 0.75\n",
      " 0.8        0.9        0.96666667 0.975      1.        ]\n"
     ]
    }
   ],
   "source": [
    "#2) Random Forest Classifier - Base Model:\n",
    "#b Use the fitted model to predict on test data. Use the .predict_proba() and the .predict() methods to get predicted probabilities as well as predicted classes.\n",
    "y_pred = clf.predict(X_test)\n",
    "print(np.unique(y_pred))\n",
    "print(np.unique(clf.predict_proba(X_test)))"
   ]
  },
  {
   "cell_type": "code",
   "execution_count": 6,
   "metadata": {},
   "outputs": [
    {
     "name": "stdout",
     "output_type": "stream",
     "text": [
      "[[6618  422]\n",
      " [1328  632]]\n",
      "             precision    recall  f1-score   support\n",
      "\n",
      "          0       0.83      0.94      0.88      7040\n",
      "          1       0.60      0.32      0.42      1960\n",
      "\n",
      "avg / total       0.78      0.81      0.78      9000\n",
      "\n"
     ]
    }
   ],
   "source": [
    "#c) Calculate the confusion matrix and classification report (both are in sklearn.metrics). These are the same tools from HW #3.\n",
    "print(confusion_matrix(y_test, y_pred))\n",
    "print(classification_report(y_test,y_pred))\n"
   ]
  },
  {
   "cell_type": "code",
   "execution_count": 7,
   "metadata": {},
   "outputs": [
    {
     "name": "stdout",
     "output_type": "stream",
     "text": [
      "0.6312528988868273\n"
     ]
    }
   ],
   "source": [
    "#d) Calculate the roc_auc_score for this model. There are many ways to do this, but an example is to use the probabilities from step B and utilize the roc_auc_score from sklearn.\n",
    "y_pred = clf.predict(X_test)\n",
    "print(roc_auc_score(y_test,y_pred))"
   ]
  },
  {
   "cell_type": "markdown",
   "metadata": {},
   "source": [
    "e) Calculate predictions for the training data & build the classification report & roc_auc_score. Are there signs of overfitting? Why or why not?"
   ]
  },
  {
   "cell_type": "code",
   "execution_count": 8,
   "metadata": {},
   "outputs": [
    {
     "name": "stdout",
     "output_type": "stream",
     "text": [
      "[0 1]\n",
      "[0.         0.03333333 0.05       0.06       0.1        0.125\n",
      " 0.13333333 0.15       0.2        0.25       0.25714286 0.26666667\n",
      " 0.3        0.30833333 0.33333333 0.34380952 0.35       0.375\n",
      " 0.4        0.43333333 0.46       0.46666667 0.48166667 0.5\n",
      " 0.51833333 0.53333333 0.54       0.56666667 0.6        0.625\n",
      " 0.65       0.65619048 0.66666667 0.69166667 0.7        0.73333333\n",
      " 0.74285714 0.75       0.8        0.85       0.86666667 0.875\n",
      " 0.9        0.94       0.95       0.96666667 1.        ]\n"
     ]
    }
   ],
   "source": [
    "#e) Calculate predictions for the training data & build the classification report & roc_auc_score. Are there signs of overfitting? Why or why not?\n",
    "y_pred_train = clf.predict(X_train)\n",
    "print(np.unique(y_pred_train))\n",
    "print(np.unique(clf.predict_proba(X_train)))"
   ]
  },
  {
   "cell_type": "code",
   "execution_count": 18,
   "metadata": {},
   "outputs": [
    {
     "name": "stdout",
     "output_type": "stream",
     "text": [
      "[[15917   407]\n",
      " [ 2532  2144]]\n",
      "             precision    recall  f1-score   support\n",
      "\n",
      "          0       0.86      0.98      0.92     16324\n",
      "          1       0.84      0.46      0.59      4676\n",
      "\n",
      "avg / total       0.86      0.86      0.84     21000\n",
      "\n"
     ]
    }
   ],
   "source": [
    "#e) Calculate the confusion matrix and classification report (both are in sklearn.metrics). These are the same tools from HW #3.\n",
    "print(confusion_matrix(y_train, y_pred_train))\n",
    "print(classification_report(y_train,y_pred_train))\n"
   ]
  },
  {
   "cell_type": "code",
   "execution_count": 20,
   "metadata": {},
   "outputs": [
    {
     "name": "stdout",
     "output_type": "stream",
     "text": [
      "0.7167894668883257\n"
     ]
    }
   ],
   "source": [
    "#d) Calculate the roc_auc_score for this model. There are many ways to do this, but an example is to use the probabilities from step B and utilize the roc_auc_score from sklearn.\n",
    "print(roc_auc_score(y_train,y_pred_train))"
   ]
  },
  {
   "cell_type": "markdown",
   "metadata": {},
   "source": [
    "The model is slightly overfitted as we are returnced an ROC of .72 for our \n",
    "training data while our test data returned an ROC of .63. "
   ]
  },
  {
   "cell_type": "code",
   "execution_count": 11,
   "metadata": {},
   "outputs": [
    {
     "name": "stdout",
     "output_type": "stream",
     "text": [
      "Fitting 5 folds for each of 36 candidates, totalling 180 fits\n"
     ]
    },
    {
     "name": "stderr",
     "output_type": "stream",
     "text": [
      "[Parallel(n_jobs=-1)]: Done  10 tasks      | elapsed:   12.2s\n",
      "[Parallel(n_jobs=-1)]: Done  64 tasks      | elapsed:  1.9min\n",
      "[Parallel(n_jobs=-1)]: Done 154 tasks      | elapsed:  5.7min\n",
      "[Parallel(n_jobs=-1)]: Done 180 out of 180 | elapsed:  7.5min finished\n"
     ]
    },
    {
     "data": {
      "text/plain": [
       "GridSearchCV(cv=5, error_score='raise',\n",
       "       estimator=RandomForestClassifier(bootstrap=True, class_weight=None, criterion='gini',\n",
       "            max_depth=None, max_features='auto', max_leaf_nodes=None,\n",
       "            min_impurity_decrease=0.0, min_impurity_split=None,\n",
       "            min_samples_leaf=1, min_samples_split=2,\n",
       "            min_weight_fraction_leaf=0.0, n_estimators=10, n_jobs=1,\n",
       "            oob_score=False, random_state=None, verbose=0,\n",
       "            warm_start=False),\n",
       "       fit_params=None, iid=True, n_jobs=-1,\n",
       "       param_grid={'max_depth': [6, 8, 10, 12], 'max_features': [2, 4, 'sqrt'], 'random_state': [0], 'n_estimators': [50, 100, 500]},\n",
       "       pre_dispatch='2*n_jobs', refit=True, return_train_score='warn',\n",
       "       scoring='roc_auc', verbose=5)"
      ]
     },
     "execution_count": 11,
     "metadata": {},
     "output_type": "execute_result"
    }
   ],
   "source": [
    "#Part 3 \n",
    "#a) USe the RandomForestClassifier along with GridSearchCV tool.\n",
    "#create a dictionary of parameters \n",
    "param_grid = {'max_depth':[6, 8,10,12],\n",
    "'max_features':[2,4,'sqrt'],\n",
    "'random_state':[0],\n",
    "'n_estimators':[50,100,500]}\n",
    "\n",
    "# create Random Forest model \n",
    "rf_obj=RandomForestClassifier()\n",
    "\n",
    "# Create gridsearch object with various combinations of parameters\n",
    "rf_Grid = GridSearchCV(rf_obj, param_grid, cv = 5, scoring = 'roc_auc',refit = True, n_jobs=-1, verbose = 5)\n",
    "rf_Grid.fit(X_train,y_train)"
   ]
  },
  {
   "cell_type": "code",
   "execution_count": 12,
   "metadata": {},
   "outputs": [],
   "source": [
    "#Part 3\n",
    "#b) Identify the best performing model:\n",
    "rf_Grid.best_params_\n",
    "rf_Grid.best_estimator_\n",
    "optimised_random_forest = rf_Grid.best_estimator_"
   ]
  },
  {
   "cell_type": "code",
   "execution_count": 13,
   "metadata": {},
   "outputs": [
    {
     "data": {
      "text/plain": [
       "array([[0.83839811, 0.16160189],\n",
       "       [0.91035397, 0.08964603],\n",
       "       [0.88188644, 0.11811356],\n",
       "       ...,\n",
       "       [0.88431926, 0.11568074],\n",
       "       [0.91200366, 0.08799634],\n",
       "       [0.91899288, 0.08100712]])"
      ]
     },
     "execution_count": 13,
     "metadata": {},
     "output_type": "execute_result"
    }
   ],
   "source": [
    "#Part 3\n",
    "#c) Use the best estimator model to predict on test data. Use the .predict_proba() and the .predict() methods to get predicted probabilities as well as predicted classes.\n",
    "y_pred=optimised_random_forest.predict(X_test)\n",
    "optimised_random_forest.predict(X_test)\n",
    "optimised_random_forest.predict_proba(X_test)\n"
   ]
  },
  {
   "cell_type": "code",
   "execution_count": 14,
   "metadata": {},
   "outputs": [
    {
     "name": "stdout",
     "output_type": "stream",
     "text": [
      "[[6690  350]\n",
      " [1265  695]]\n",
      "             precision    recall  f1-score   support\n",
      "\n",
      "          0       0.84      0.95      0.89      7040\n",
      "          1       0.67      0.35      0.46      1960\n",
      "\n",
      "avg / total       0.80      0.82      0.80      9000\n",
      "\n"
     ]
    }
   ],
   "source": [
    "#Part 3\n",
    "#d)  Calculate the confusion matrix and classification report (both are in sklearn.metrics). \n",
    "print(confusion_matrix(y_test,y_pred))\n",
    "print(classification_report(y_test,y_pred))"
   ]
  },
  {
   "cell_type": "code",
   "execution_count": 15,
   "metadata": {},
   "outputs": [
    {
     "name": "stdout",
     "output_type": "stream",
     "text": [
      "0.6524379638218925\n"
     ]
    }
   ],
   "source": [
    "#Part 3\n",
    "#e) Calculate the roac_auc_score\n",
    "print(roc_auc_score(y_test,y_pred))"
   ]
  },
  {
   "cell_type": "code",
   "execution_count": 16,
   "metadata": {},
   "outputs": [
    {
     "name": "stdout",
     "output_type": "stream",
     "text": [
      "[[15917   407]\n",
      " [ 2532  2144]]\n",
      "             precision    recall  f1-score   support\n",
      "\n",
      "          0       0.86      0.98      0.92     16324\n",
      "          1       0.84      0.46      0.59      4676\n",
      "\n",
      "avg / total       0.86      0.86      0.84     21000\n",
      "\n",
      "0.7167894668883257\n"
     ]
    }
   ],
   "source": [
    "#Part 3\n",
    "#f)\n",
    "y_pred_train = optimised_random_forest.predict(X_train)\n",
    "print(confusion_matrix(y_train,y_pred_train))\n",
    "print(classification_report(y_train,y_pred_train))\n",
    "print(roc_auc_score(y_train,y_pred_train))"
   ]
  },
  {
   "cell_type": "markdown",
   "metadata": {},
   "source": [
    "This model is slightly better as there is a smaller difference returned between our test and training data, but the model is still slightly overfitted as we are returnced an ROC of .72 for our \n",
    "training data while our test data returned an ROC of .65. "
   ]
  },
  {
   "cell_type": "code",
   "execution_count": 17,
   "metadata": {},
   "outputs": [
    {
     "data": {
      "image/png": "[encoded data removed]",
      "text/plain": [
       "<Figure size 432x288 with 1 Axes>"
      ]
     },
     "metadata": {},
     "output_type": "display_data"
    }
   ],
   "source": [
    "#Part 4 Create a feature importance plot for your best performing model.\n",
    "importances = optimised_random_forest.feature_importances_\n",
    "std = np.std([tree.feature_importances_ for tree in optimised_random_forest.estimators_],\n",
    "             axis=0)\n",
    "indices = np.argsort(importances)\n",
    "\n",
    "# Plot the feature importances of the forest\n",
    "plt.figure()\n",
    "plt.title(\"Feature importances\")\n",
    "plt.barh(range(X.shape[1]), importances[indices],\n",
    "       color=\"r\", xerr=std[indices], align=\"center\")\n",
    "# If you want to define your own labels,\n",
    "# change indices to a list of labels on the following line.\n",
    "plt.yticks(range(X.shape[1]), list(df.columns.values))\n",
    "plt.ylim([-1, X.shape[1]])\n",
    "plt.show()"
   ]
  },
  {
   "cell_type": "raw",
   "metadata": {},
   "source": [
    "4) What are the top 5 features for this model?print(optimised_random_forest.feature_importances_)\n",
    "As can beprint(optimised_random_forest.feature_importances_)e seen above, the top 5 features of this model are PAY_AMT6, PAY_AMT5, PAY_AMT4, PAY_AMT3, and PAY_AMT2. "
   ]
  },
  {
   "cell_type": "code",
   "execution_count": 22,
   "metadata": {},
   "outputs": [
    {
     "data": {
      "image/png": "[encoded data removed]",
      "text/plain": [
       "<Figure size 432x288 with 1 Axes>"
      ]
     },
     "metadata": {},
     "output_type": "display_data"
    }
   ],
   "source": [
    "importances = clf.feature_importances_\n",
    "std = np.std([tree.feature_importances_ for tree in clf.estimators_],\n",
    "             axis=0)\n",
    "indices = np.argsort(importances)\n",
    "\n",
    "# Plot the feature importances of the forest\n",
    "plt.figure()\n",
    "plt.title(\"Feature importances\")\n",
    "plt.barh(range(X.shape[1]), importances[indices],\n",
    "       color=\"r\", xerr=std[indices], align=\"center\")\n",
    "# If you want to define your own labels,\n",
    "# change indices to a list of labels on the following line.\n",
    "plt.yticks(range(X.shape[1]), list(df.columns.values))\n",
    "plt.ylim([-1, X.shape[1]])\n",
    "plt.show()"
   ]
  },
  {
   "cell_type": "raw",
   "metadata": {},
   "source": [
    "5) Conceptual Questions\n",
    "a) What are the best parameters from the Grid Search in Question # 3? Does the Model from #3 outperform Model #2? Explain why.\n",
    "Both models seem to pick the same parameters as the best parameters, but through the grid search model, we are able to se that the third model places a very strong amount of importance on PAY_AMT6 than our second model does. \n",
    "\n",
    "b) Overfitting is always a concern in ML problems. Does Model #3 overfit data more or less than Model #2? Explain why you think this is the case. \n",
    "Model 2 does a worse job at overfitting the data because there is a larger difference between the ROC returned between the train and test data. Model 3 is better because it was alowed to do a grid search for the model parameters. \n",
    "\n",
    "\n",
    "c) The lecture notes describe the Gini Index which is the default criterion used for splitting in sklearn's version of RandomForestClassifier. How does the Gini Index work?\n",
    "The Gini coefficient measures the inequality among values of a frequency distribution. A Gini coefficient of zero expresses perfect equality, where all values are the same expresses maximal inequality among values.\n",
    "\n",
    "d) Describe how Random Forest is different from bagging & why this difference can yield improved results.\n",
    "Bagging is where many samples are boostrapped and then the average model prediction is aggreagated to determine the ouput. With Random Forrest, many boostrap samples are taken, but for each fitted decision tree, a random subsample of the covariates/features/columns are used in the fitting process. By looking at random sub samples of covariates/features/columns, we are able to better identify the importance of features when they are looked at individually instead of when all the features are compared at once. \n",
    "\n",
    "e) Describe the importance of the max_depth parameter in Random Forest. Do not just provide a definition, rather think through how bias-variance tradeoff might be impacted by the max_depth parameter.\n",
    "As the max_depth parameter is allowed to increase, the probable that our model will be overfitted towards our training data. This is because as we move down our descision tree, there is less and less seperation to teh data with regards to the gini index.\n",
    "\n",
    "f) In this homework we used k-fold cross-validation while determining the optimal hyperparameters for our Random Forest model. 1) Describe how k-fold cross-validation works. 2) What benefit do we gain by using k-fold cross-validation when tuning our Random Forest model versus only using the train-test split approach?\n",
    "Within Kfold cross validation, we split up our data into equal sizes, n, and we use n-1 of those splits to train our model, and we use 1 of those sets for validation. We then use the 1 split that was used in validation for our train, and we use one of the splits in training for validation. Through K-fold class validation, each one of these splits will be used as validation at one point to make sure we produce a model that has enough data to not be overfitted on the etsting data. In a regular tarin-test split, we might not have enough data for training which could cause for overfitting to the training data.  "
   ]
  }
 ],
 "metadata": {
  "kernelspec": {
   "display_name": "Python 3",
   "language": "python",
   "name": "python3"
  },
  "language_info": {
   "codemirror_mode": {
    "name": "ipython",
    "version": 3
   },
   "file_extension": ".py",
   "mimetype": "text/x-python",
   "name": "python",
   "nbconvert_exporter": "python",
   "pygments_lexer": "ipython3",
   "version": "3.7.1"
  }
 },
 "nbformat": 4,
 "nbformat_minor": 2
}
