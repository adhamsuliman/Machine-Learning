{
 "cells": [
  {
   "cell_type": "code",
   "execution_count": 80,
   "metadata": {},
   "outputs": [
    {
     "name": "stdout",
     "output_type": "stream",
     "text": [
      "Requirement already satisfied: xgboost in c:\\users\\u353822\\appdata\\local\\continuum\\anaconda3\\lib\\site-packages (0.81)\n",
      "Requirement already satisfied: scipy in c:\\users\\u353822\\appdata\\local\\continuum\\anaconda3\\lib\\site-packages (from xgboost) (1.0.0)\n",
      "Requirement already satisfied: numpy in c:\\users\\u353822\\appdata\\local\\continuum\\anaconda3\\lib\\site-packages (from xgboost) (1.14.2)\n"
     ]
    },
    {
     "name": "stderr",
     "output_type": "stream",
     "text": [
      "You are using pip version 18.1, however version 19.0.2 is available.\n",
      "You should consider upgrading via the 'python -m pip install --upgrade pip' command.\n"
     ]
    }
   ],
   "source": [
    "!pip install  xgboost\n",
    "import pandas as pd\n",
    "import numpy as np\n",
    "from sklearn.model_selection import train_test_split\n",
    "from sklearn.ensemble import RandomForestClassifier\n",
    "from sklearn.metrics import roc_auc_score, confusion_matrix, classification_report\n",
    "import sklearn.metrics as metrics\n",
    "from sklearn.model_selection import GridSearchCV\n",
    "import matplotlib.pyplot as plt\n",
    "from sklearn.tree import DecisionTreeClassifier\n",
    "from sklearn.ensemble import AdaBoostClassifier, GradientBoostingClassifier\n",
    "from sklearn.grid_search import GridSearchCV, RandomizedSearchCV\n",
    "import pickle\n",
    "from xgboost import XGBClassifier"
   ]
  },
  {
   "cell_type": "code",
   "execution_count": 2,
   "metadata": {},
   "outputs": [],
   "source": [
    "#Data Processing:\n",
    "#a) Import the data from the website directly\n",
    "adult_df = pd.read_csv('https://archive.ics.uci.edu/ml/machine-learning-databases/adult/adult.data', header = None, skipinitialspace=True)"
   ]
  },
  {
   "cell_type": "code",
   "execution_count": 3,
   "metadata": {},
   "outputs": [
    {
     "data": {
      "text/plain": [
       "(32561, 15)"
      ]
     },
     "execution_count": 3,
     "metadata": {},
     "output_type": "execute_result"
    }
   ],
   "source": [
    "list_of_columns = [\"age\", \"workclass\", \"fnlwgt\", \"education\", \"education_num\", \"marital_status\", \"occupation\", \"relationship\", \"race\", \"sex\", \"capital_gain\", \"capital_loss\", \"hours_per_week\", \"native_country\",\"salary\"]\n",
    "adult_df.columns = list_of_columns\n",
    "adult_df.shape"
   ]
  },
  {
   "cell_type": "code",
   "execution_count": 4,
   "metadata": {},
   "outputs": [],
   "source": [
    "adult_df = adult_df.drop(['fnlwgt'],axis=1)"
   ]
  },
  {
   "cell_type": "code",
   "execution_count": 5,
   "metadata": {},
   "outputs": [
    {
     "data": {
      "text/html": [
       "<div>\n",
       "<style scoped>\n",
       "    .dataframe tbody tr th:only-of-type {\n",
       "        vertical-align: middle;\n",
       "    }\n",
       "\n",
       "    .dataframe tbody tr th {\n",
       "        vertical-align: top;\n",
       "    }\n",
       "\n",
       "    .dataframe thead th {\n",
       "        text-align: right;\n",
       "    }\n",
       "</style>\n",
       "<table border=\"1\" class=\"dataframe\">\n",
       "  <thead>\n",
       "    <tr style=\"text-align: right;\">\n",
       "      <th></th>\n",
       "      <th>age</th>\n",
       "      <th>workclass</th>\n",
       "      <th>education</th>\n",
       "      <th>education_num</th>\n",
       "      <th>marital_status</th>\n",
       "      <th>occupation</th>\n",
       "      <th>relationship</th>\n",
       "      <th>race</th>\n",
       "      <th>sex</th>\n",
       "      <th>capital_gain</th>\n",
       "      <th>capital_loss</th>\n",
       "      <th>hours_per_week</th>\n",
       "      <th>native_country</th>\n",
       "      <th>salary</th>\n",
       "    </tr>\n",
       "  </thead>\n",
       "  <tbody>\n",
       "    <tr>\n",
       "      <th>0</th>\n",
       "      <td>39</td>\n",
       "      <td>State-gov</td>\n",
       "      <td>Bachelors</td>\n",
       "      <td>13</td>\n",
       "      <td>Never-married</td>\n",
       "      <td>Adm-clerical</td>\n",
       "      <td>Not-in-family</td>\n",
       "      <td>White</td>\n",
       "      <td>Male</td>\n",
       "      <td>2174</td>\n",
       "      <td>0</td>\n",
       "      <td>40</td>\n",
       "      <td>United-States</td>\n",
       "      <td>0</td>\n",
       "    </tr>\n",
       "    <tr>\n",
       "      <th>1</th>\n",
       "      <td>50</td>\n",
       "      <td>Self-emp-not-inc</td>\n",
       "      <td>Bachelors</td>\n",
       "      <td>13</td>\n",
       "      <td>Married-civ-spouse</td>\n",
       "      <td>Exec-managerial</td>\n",
       "      <td>Husband</td>\n",
       "      <td>White</td>\n",
       "      <td>Male</td>\n",
       "      <td>0</td>\n",
       "      <td>0</td>\n",
       "      <td>13</td>\n",
       "      <td>United-States</td>\n",
       "      <td>0</td>\n",
       "    </tr>\n",
       "    <tr>\n",
       "      <th>2</th>\n",
       "      <td>38</td>\n",
       "      <td>Private</td>\n",
       "      <td>HS-grad</td>\n",
       "      <td>9</td>\n",
       "      <td>Divorced</td>\n",
       "      <td>Handlers-cleaners</td>\n",
       "      <td>Not-in-family</td>\n",
       "      <td>White</td>\n",
       "      <td>Male</td>\n",
       "      <td>0</td>\n",
       "      <td>0</td>\n",
       "      <td>40</td>\n",
       "      <td>United-States</td>\n",
       "      <td>0</td>\n",
       "    </tr>\n",
       "    <tr>\n",
       "      <th>3</th>\n",
       "      <td>53</td>\n",
       "      <td>Private</td>\n",
       "      <td>11th</td>\n",
       "      <td>7</td>\n",
       "      <td>Married-civ-spouse</td>\n",
       "      <td>Handlers-cleaners</td>\n",
       "      <td>Husband</td>\n",
       "      <td>Black</td>\n",
       "      <td>Male</td>\n",
       "      <td>0</td>\n",
       "      <td>0</td>\n",
       "      <td>40</td>\n",
       "      <td>United-States</td>\n",
       "      <td>0</td>\n",
       "    </tr>\n",
       "    <tr>\n",
       "      <th>4</th>\n",
       "      <td>28</td>\n",
       "      <td>Private</td>\n",
       "      <td>Bachelors</td>\n",
       "      <td>13</td>\n",
       "      <td>Married-civ-spouse</td>\n",
       "      <td>Prof-specialty</td>\n",
       "      <td>Wife</td>\n",
       "      <td>Black</td>\n",
       "      <td>Female</td>\n",
       "      <td>0</td>\n",
       "      <td>0</td>\n",
       "      <td>40</td>\n",
       "      <td>Cuba</td>\n",
       "      <td>0</td>\n",
       "    </tr>\n",
       "  </tbody>\n",
       "</table>\n",
       "</div>"
      ],
      "text/plain": [
       "   age         workclass  education  education_num      marital_status  \\\n",
       "0   39         State-gov  Bachelors             13       Never-married   \n",
       "1   50  Self-emp-not-inc  Bachelors             13  Married-civ-spouse   \n",
       "2   38           Private    HS-grad              9            Divorced   \n",
       "3   53           Private       11th              7  Married-civ-spouse   \n",
       "4   28           Private  Bachelors             13  Married-civ-spouse   \n",
       "\n",
       "          occupation   relationship   race     sex  capital_gain  \\\n",
       "0       Adm-clerical  Not-in-family  White    Male          2174   \n",
       "1    Exec-managerial        Husband  White    Male             0   \n",
       "2  Handlers-cleaners  Not-in-family  White    Male             0   \n",
       "3  Handlers-cleaners        Husband  Black    Male             0   \n",
       "4     Prof-specialty           Wife  Black  Female             0   \n",
       "\n",
       "   capital_loss  hours_per_week native_country  salary  \n",
       "0             0              40  United-States       0  \n",
       "1             0              13  United-States       0  \n",
       "2             0              40  United-States       0  \n",
       "3             0              40  United-States       0  \n",
       "4             0              40           Cuba       0  "
      ]
     },
     "execution_count": 5,
     "metadata": {},
     "output_type": "execute_result"
    }
   ],
   "source": [
    "adult_df.salary = adult_df.salary.replace(\">50K\",1)\n",
    "adult_df.salary = adult_df.salary.replace(\"<=50K\",0)\n",
    "adult_df.head()"
   ]
  },
  {
   "cell_type": "code",
   "execution_count": 6,
   "metadata": {},
   "outputs": [
    {
     "name": "stdout",
     "output_type": "stream",
     "text": [
      "(32561, 13)\n",
      "(32561,)\n"
     ]
    }
   ],
   "source": [
    "X = adult_df.iloc[:,:-1]\n",
    "print(X.shape)\n",
    "y = adult_df.iloc[:,-1]\n",
    "print(y.shape)"
   ]
  },
  {
   "cell_type": "code",
   "execution_count": 7,
   "metadata": {},
   "outputs": [],
   "source": [
    "X_encoded = pd.get_dummies(X)"
   ]
  },
  {
   "cell_type": "code",
   "execution_count": 8,
   "metadata": {},
   "outputs": [],
   "source": [
    "#d) Split data into train / test set using an 70/30 split. Recall that you should be generating an X_train, X_test, y_train, and y_test.\n",
    "X_train, X_test, y_train, y_test = train_test_split(X_encoded, y, test_size=.3, random_state=42)"
   ]
  },
  {
   "cell_type": "code",
   "execution_count": 63,
   "metadata": {},
   "outputs": [
    {
     "data": {
      "text/plain": [
       "RandomForestClassifier(bootstrap=True, class_weight=None, criterion='gini',\n",
       "            max_depth=None, max_features='auto', max_leaf_nodes=None,\n",
       "            min_impurity_decrease=0.0, min_impurity_split=None,\n",
       "            min_samples_leaf=1, min_samples_split=2,\n",
       "            min_weight_fraction_leaf=0.0, n_estimators=10, n_jobs=1,\n",
       "            oob_score=False, random_state=3, verbose=0, warm_start=False)"
      ]
     },
     "execution_count": 63,
     "metadata": {},
     "output_type": "execute_result"
    }
   ],
   "source": [
    "#2) Random Forest Classifier - Base Model:\n",
    "#a Use the RandomForestClassifier in sklearn. \n",
    "clf = RandomForestClassifier(random_state=3)\n",
    "clf.fit(X_train, y_train)"
   ]
  },
  {
   "cell_type": "code",
   "execution_count": 64,
   "metadata": {},
   "outputs": [
    {
     "name": "stdout",
     "output_type": "stream",
     "text": [
      "[0 1]\n",
      "[0.         0.01       0.01428571 0.01666667 0.01818182 0.02\n",
      " 0.02142857 0.025      0.02857143 0.03333333 0.03611111 0.04\n",
      " 0.04583333 0.04928571 0.05       0.05444444 0.05714286 0.06\n",
      " 0.0625     0.065      0.06666667 0.06857143 0.06966153 0.07\n",
      " 0.07142857 0.07440476 0.075      0.08       0.08333333 0.08333333\n",
      " 0.08948524 0.09166667 0.095      0.09833333 0.1        0.10496032\n",
      " 0.10690476 0.10833333 0.11178571 0.1125     0.11274725 0.11328671\n",
      " 0.11428571 0.11619048 0.11666667 0.1175     0.12       0.1202381\n",
      " 0.12166667 0.125      0.12504329 0.12857143 0.13068182 0.13095238\n",
      " 0.13166667 0.1325     0.13320818 0.13333333 0.13729659 0.14\n",
      " 0.14489177 0.14545455 0.15       0.15467033 0.15833333 0.16\n",
      " 0.16111111 0.1625     0.16666667 0.16722222 0.17142857 0.175\n",
      " 0.18       0.18166667 0.18270202 0.18333333 0.18333333 0.18452381\n",
      " 0.18666667 0.1875     0.18761905 0.18791486 0.18857143 0.19069114\n",
      " 0.19111111 0.19166667 0.195      0.19583333 0.19893218 0.19904762\n",
      " 0.19941392 0.2        0.20333333 0.21       0.21190476 0.21297619\n",
      " 0.21428571 0.215      0.21662698 0.21666667 0.21666667 0.22\n",
      " 0.22471306 0.22489177 0.225      0.22619048 0.22666667 0.22857143\n",
      " 0.23166667 0.23222222 0.23333333 0.23333333 0.23599567 0.23809524\n",
      " 0.23833333 0.2384127  0.24       0.24166667 0.24285714 0.245\n",
      " 0.2452381  0.2452886  0.24690045 0.25       0.25333333 0.25630952\n",
      " 0.2625     0.26488095 0.265      0.26507937 0.26666667 0.26666667\n",
      " 0.26785714 0.275      0.27833333 0.28       0.28166667 0.28333333\n",
      " 0.285      0.28527778 0.28642857 0.28809524 0.28833333 0.29\n",
      " 0.29166667 0.29214286 0.29227717 0.29333333 0.2952381  0.29666667\n",
      " 0.3        0.3        0.3075     0.30833333 0.30833333 0.30857143\n",
      " 0.30952381 0.31       0.31333333 0.31412698 0.31428571 0.31655413\n",
      " 0.31666667 0.31944444 0.32       0.32       0.325      0.32833333\n",
      " 0.32904762 0.3297619  0.33       0.33047619 0.33214286 0.3325\n",
      " 0.33333333 0.33333333 0.33666667 0.3375     0.33833333 0.33846154\n",
      " 0.33928571 0.34       0.34166667 0.34333333 0.34467121 0.34904762\n",
      " 0.34952381 0.35       0.35238095 0.35547619 0.35833333 0.36\n",
      " 0.36151515 0.365      0.36666667 0.36666667 0.36746032 0.375\n",
      " 0.37666667 0.37678571 0.37714286 0.38       0.38333333 0.38333333\n",
      " 0.385      0.385      0.38571429 0.39       0.39166667 0.39242063\n",
      " 0.39333333 0.39452381 0.395      0.39715368 0.39833333 0.39880952\n",
      " 0.4        0.40067599 0.40708791 0.40833333 0.40833333 0.41\n",
      " 0.41333333 0.415      0.41666667 0.41666667 0.42       0.42\n",
      " 0.4227381  0.42416667 0.42452381 0.425      0.43       0.43333333\n",
      " 0.43333333 0.435      0.4352381  0.43666667 0.43699634 0.4375\n",
      " 0.43847958 0.44       0.44166667 0.44166667 0.44583333 0.44833333\n",
      " 0.44869048 0.45       0.45666667 0.45714286 0.45833333 0.46\n",
      " 0.4602381  0.46071429 0.46166667 0.46300366 0.4633178  0.465\n",
      " 0.46553571 0.46666667 0.46666667 0.46936508 0.47       0.47166667\n",
      " 0.47287879 0.47333333 0.475      0.47547619 0.47699301 0.47988262\n",
      " 0.48       0.48055556 0.48119048 0.48166667 0.48333333 0.48333333\n",
      " 0.48375458 0.48666667 0.48781926 0.48888889 0.49       0.49090909\n",
      " 0.49166667 0.495      0.5        0.505      0.50833333 0.50833333\n",
      " 0.50909091 0.51       0.51111111 0.51218074 0.51333333 0.51624542\n",
      " 0.51666667 0.51666667 0.51833333 0.51880952 0.51944444 0.52\n",
      " 0.52011738 0.52300699 0.52452381 0.525      0.52666667 0.52712121\n",
      " 0.52833333 0.53       0.53063492 0.53333333 0.53333333 0.53446429\n",
      " 0.535      0.5366822  0.53699634 0.53833333 0.53928571 0.5397619\n",
      " 0.54       0.54       0.54166667 0.54285714 0.54333333 0.55\n",
      " 0.55       0.55130952 0.55166667 0.55416667 0.55833333 0.56\n",
      " 0.56152042 0.5625     0.56300366 0.56333333 0.5647619  0.565\n",
      " 0.56666667 0.57       0.575      0.57547619 0.57583333 0.5772619\n",
      " 0.58       0.58       0.58333333 0.58333333 0.585      0.58666667\n",
      " 0.59       0.59166667 0.59166667 0.59291209 0.59932401 0.6\n",
      " 0.60119048 0.60166667 0.60284632 0.605      0.60547619 0.60666667\n",
      " 0.60757937 0.60833333 0.61       0.61428571 0.615      0.61666667\n",
      " 0.61666667 0.62       0.62285714 0.62321429 0.62333333 0.625\n",
      " 0.63253968 0.63333333 0.635      0.63848485 0.64       0.64\n",
      " 0.64166667 0.64452381 0.64761905 0.65       0.65047619 0.65095238\n",
      " 0.65532879 0.65666667 0.65833333 0.66       0.66071429 0.66153846\n",
      " 0.66166667 0.6625     0.66333333 0.66666667 0.66666667 0.6675\n",
      " 0.66785714 0.66952381 0.67       0.6702381  0.67095238 0.67166667\n",
      " 0.675      0.68       0.68055556 0.68333333 0.68344587 0.68571429\n",
      " 0.68587302 0.68666667 0.69       0.69047619 0.69142857 0.69166667\n",
      " 0.6925     0.7        0.70333333 0.7047619  0.70666667 0.70772283\n",
      " 0.70785714 0.70833333 0.71       0.71166667 0.71190476 0.71357143\n",
      " 0.71472222 0.715      0.71666667 0.71666667 0.71833333 0.72\n",
      " 0.72166667 0.725      0.73214286 0.73333333 0.73333333 0.73492063\n",
      " 0.735      0.73511905 0.7375     0.74369048 0.74666667 0.75\n",
      " 0.75       0.75309955 0.7547114  0.7547619  0.755      0.75714286\n",
      " 0.75833333 0.76       0.7615873  0.76166667 0.76190476 0.76400433\n",
      " 0.76666667 0.76666667 0.76777778 0.76833333 0.77142857 0.77333333\n",
      " 0.77380952 0.775      0.77510823 0.77528694 0.78       0.78333333\n",
      " 0.78337302 0.785      0.78571429 0.78702381 0.78809524 0.79\n",
      " 0.79666667 0.8        0.80058608 0.80095238 0.80106782 0.80416667\n",
      " 0.805      0.80833333 0.80888889 0.80930886 0.81142857 0.81208514\n",
      " 0.81238095 0.8125     0.81333333 0.81547619 0.81666667 0.81666667\n",
      " 0.81729798 0.81833333 0.82       0.825      0.82857143 0.83277778\n",
      " 0.83333333 0.83333333 0.8375     0.83888889 0.84       0.84166667\n",
      " 0.84166667 0.84532967 0.85       0.85454545 0.85510823 0.86\n",
      " 0.86270341 0.86666667 0.86666667 0.86679182 0.8675     0.86833333\n",
      " 0.86904762 0.86931818 0.87142857 0.87495671 0.875      0.87833333\n",
      " 0.8797619  0.88       0.8825     0.88333333 0.88380952 0.88571429\n",
      " 0.88671329 0.88725275 0.8875     0.88821429 0.89166667 0.89309524\n",
      " 0.89503968 0.9        0.90166667 0.905      0.90833333 0.90833333\n",
      " 0.91051476 0.91666667 0.91666667 0.92       0.925      0.92559524\n",
      " 0.92857143 0.93       0.93033847 0.93142857 0.93333333 0.93333333\n",
      " 0.935      0.9375     0.94       0.94285714 0.94555556 0.95\n",
      " 0.95071429 0.95416667 0.96       0.96388889 0.96666667 0.96666667\n",
      " 0.97142857 0.975      0.97857143 0.98       0.98181818 0.98333333\n",
      " 0.98571429 0.99       1.        ]\n"
     ]
    }
   ],
   "source": [
    "#2) Random Forest Classifier - Base Model:\n",
    "#b Use the fitted model to predict on test data. Use the .predict_proba() and the .predict() methods to get predicted probabilities as well as predicted classes.\n",
    "y_pred = clf.predict(X_test)\n",
    "print(np.unique(y_pred))\n",
    "print(np.unique(clf.predict_proba(X_test)))"
   ]
  },
  {
   "cell_type": "code",
   "execution_count": 65,
   "metadata": {},
   "outputs": [
    {
     "name": "stdout",
     "output_type": "stream",
     "text": [
      "[[6844  611]\n",
      " [ 925 1389]]\n",
      "             precision    recall  f1-score   support\n",
      "\n",
      "          0       0.88      0.92      0.90      7455\n",
      "          1       0.69      0.60      0.64      2314\n",
      "\n",
      "avg / total       0.84      0.84      0.84      9769\n",
      "\n"
     ]
    }
   ],
   "source": [
    "#c) Calculate the confusion matrix and classification report (both are in sklearn.metrics). These are the same tools from HW #3.\n",
    "print(confusion_matrix(y_test, y_pred))\n",
    "print(classification_report(y_test,y_pred))\n"
   ]
  },
  {
   "cell_type": "code",
   "execution_count": 66,
   "metadata": {},
   "outputs": [
    {
     "name": "stdout",
     "output_type": "stream",
     "text": [
      "0.7591504370504212\n"
     ]
    }
   ],
   "source": [
    "#d) Calculate the roc_auc_score for this model. There are many ways to do this, but an example is to use the probabilities from step B and utilize the roc_auc_score from sklearn.\n",
    "y_pred = clf.predict(X_test)\n",
    "print(roc_auc_score(y_test,y_pred))"
   ]
  },
  {
   "cell_type": "code",
   "execution_count": 67,
   "metadata": {
    "scrolled": true
   },
   "outputs": [
    {
     "data": {
      "text/html": [
       "<div>\n",
       "<style scoped>\n",
       "    .dataframe tbody tr th:only-of-type {\n",
       "        vertical-align: middle;\n",
       "    }\n",
       "\n",
       "    .dataframe tbody tr th {\n",
       "        vertical-align: top;\n",
       "    }\n",
       "\n",
       "    .dataframe thead th {\n",
       "        text-align: right;\n",
       "    }\n",
       "</style>\n",
       "<table border=\"1\" class=\"dataframe\">\n",
       "  <thead>\n",
       "    <tr style=\"text-align: right;\">\n",
       "      <th></th>\n",
       "      <th>importance</th>\n",
       "    </tr>\n",
       "  </thead>\n",
       "  <tbody>\n",
       "    <tr>\n",
       "      <th>age</th>\n",
       "      <td>0.231459</td>\n",
       "    </tr>\n",
       "    <tr>\n",
       "      <th>hours_per_week</th>\n",
       "      <td>0.110898</td>\n",
       "    </tr>\n",
       "    <tr>\n",
       "      <th>capital_gain</th>\n",
       "      <td>0.109006</td>\n",
       "    </tr>\n",
       "    <tr>\n",
       "      <th>education_num</th>\n",
       "      <td>0.070090</td>\n",
       "    </tr>\n",
       "    <tr>\n",
       "      <th>marital_status_Married-civ-spouse</th>\n",
       "      <td>0.065040</td>\n",
       "    </tr>\n",
       "  </tbody>\n",
       "</table>\n",
       "</div>"
      ],
      "text/plain": [
       "                                   importance\n",
       "age                                  0.231459\n",
       "hours_per_week                       0.110898\n",
       "capital_gain                         0.109006\n",
       "education_num                        0.070090\n",
       "marital_status_Married-civ-spouse    0.065040"
      ]
     },
     "execution_count": 67,
     "metadata": {},
     "output_type": "execute_result"
    }
   ],
   "source": [
    "#e) Identify the top 5 features:\n",
    "pd.DataFrame(clf.feature_importances_,index = X_train.columns,\n",
    "        columns=['importance']).sort_values('importance',ascending=False).iloc[:5,:]"
   ]
  },
  {
   "cell_type": "code",
   "execution_count": 68,
   "metadata": {},
   "outputs": [
    {
     "name": "stdout",
     "output_type": "stream",
     "text": [
      "             precision    recall  f1-score   support\n",
      "\n",
      "          0       0.97      0.99      0.98     17265\n",
      "          1       0.96      0.91      0.93      5527\n",
      "\n",
      "avg / total       0.97      0.97      0.97     22792\n",
      "\n"
     ]
    }
   ],
   "source": [
    "#f) \n",
    "y_pred_train = clf.predict(X_train)\n",
    "print(classification_report(y_train,y_pred_train))"
   ]
  },
  {
   "cell_type": "markdown",
   "metadata": {},
   "source": [
    "Is there overfitting?\n",
    "Yes there is overfitting because we gett an avg accuracy of 97% for our training data while we get an average accuracy of 84% on our test data. "
   ]
  },
  {
   "cell_type": "code",
   "execution_count": 57,
   "metadata": {},
   "outputs": [
    {
     "data": {
      "text/plain": [
       "GridSearchCV(cv=5, error_score='raise',\n",
       "       estimator=AdaBoostClassifier(algorithm='SAMME.R', base_estimator=None,\n",
       "          learning_rate=1.0, n_estimators=50, random_state=None),\n",
       "       fit_params={}, iid=True, n_jobs=1,\n",
       "       param_grid={'n_estimators': [100, 200, 300, 400], 'learning_rate': [0.2, 0.4, 0.6, 0.8, 1, 1.2], 'random_state': [0]},\n",
       "       pre_dispatch='2*n_jobs', refit=True, scoring='roc_auc', verbose=0)"
      ]
     },
     "execution_count": 57,
     "metadata": {},
     "output_type": "execute_result"
    }
   ],
   "source": [
    "#Part 3 \n",
    "#a)\n",
    "clf = RandomForestClassifier()\n",
    "ABC = AdaBoostClassifier()\n",
    "param_grid = {'n_estimators':[100, 200,300,400],\n",
    "'learning_rate':[0.2,0.4,0.6,0.8,1, 1.2],\n",
    "'random_state':[0]}\n",
    "\n",
    "RF_Grid = GridSearchCV(ABC, param_grid=param_grid, scoring='roc_auc', cv=5)\n",
    "RF_Grid.fit(X_train, y_train)"
   ]
  },
  {
   "cell_type": "code",
   "execution_count": 59,
   "metadata": {},
   "outputs": [
    {
     "name": "stdout",
     "output_type": "stream",
     "text": [
      "[0 1]\n",
      "[0.4664587  0.46717852 0.46983509 ... 0.53016491 0.53282148 0.5335413 ]\n"
     ]
    }
   ],
   "source": [
    "#b Use the fitted model to predict on test data. Use the .predict_proba() and the .predict() methods to get predicted probabilities as well as predicted classes.\n",
    "y_pred = RF_Grid.predict(X_test)\n",
    "print(np.unique(y_pred))\n",
    "print(np.unique(RF_Grid.predict_proba(X_test)))"
   ]
  },
  {
   "cell_type": "code",
   "execution_count": 60,
   "metadata": {},
   "outputs": [
    {
     "name": "stdout",
     "output_type": "stream",
     "text": [
      "[[7008  447]\n",
      " [ 807 1507]]\n",
      "             precision    recall  f1-score   support\n",
      "\n",
      "          0       0.90      0.94      0.92      7455\n",
      "          1       0.77      0.65      0.71      2314\n",
      "\n",
      "avg / total       0.87      0.87      0.87      9769\n",
      "\n"
     ]
    }
   ],
   "source": [
    "#c) Calculate the confusion matrix and classification report (both are in sklearn.metrics). These are the same tools from HW #3.\n",
    "print(confusion_matrix(y_test, y_pred))\n",
    "print(classification_report(y_test,y_pred))\n"
   ]
  },
  {
   "cell_type": "code",
   "execution_count": 61,
   "metadata": {},
   "outputs": [
    {
     "name": "stdout",
     "output_type": "stream",
     "text": [
      "0.7956467412947869\n"
     ]
    }
   ],
   "source": [
    "#d) Calculate the roc_auc_score for this model. There are many ways to do this, but an example is to use the probabilities from step B and utilize the roc_auc_score from sklearn.\n",
    "print(roc_auc_score(y_test,y_pred))"
   ]
  },
  {
   "cell_type": "code",
   "execution_count": 41,
   "metadata": {},
   "outputs": [
    {
     "data": {
      "text/html": [
       "<div>\n",
       "<style scoped>\n",
       "    .dataframe tbody tr th:only-of-type {\n",
       "        vertical-align: middle;\n",
       "    }\n",
       "\n",
       "    .dataframe tbody tr th {\n",
       "        vertical-align: top;\n",
       "    }\n",
       "\n",
       "    .dataframe thead th {\n",
       "        text-align: right;\n",
       "    }\n",
       "</style>\n",
       "<table border=\"1\" class=\"dataframe\">\n",
       "  <thead>\n",
       "    <tr style=\"text-align: right;\">\n",
       "      <th></th>\n",
       "      <th>importance</th>\n",
       "    </tr>\n",
       "  </thead>\n",
       "  <tbody>\n",
       "    <tr>\n",
       "      <th>marital_status_Separated</th>\n",
       "      <td>0.376066</td>\n",
       "    </tr>\n",
       "    <tr>\n",
       "      <th>capital_loss</th>\n",
       "      <td>0.070819</td>\n",
       "    </tr>\n",
       "    <tr>\n",
       "      <th>age</th>\n",
       "      <td>0.059577</td>\n",
       "    </tr>\n",
       "    <tr>\n",
       "      <th>capital_gain</th>\n",
       "      <td>0.054312</td>\n",
       "    </tr>\n",
       "    <tr>\n",
       "      <th>hours_per_week</th>\n",
       "      <td>0.050521</td>\n",
       "    </tr>\n",
       "  </tbody>\n",
       "</table>\n",
       "</div>"
      ],
      "text/plain": [
       "                          importance\n",
       "marital_status_Separated    0.376066\n",
       "capital_loss                0.070819\n",
       "age                         0.059577\n",
       "capital_gain                0.054312\n",
       "hours_per_week              0.050521"
      ]
     },
     "execution_count": 41,
     "metadata": {},
     "output_type": "execute_result"
    }
   ],
   "source": [
    "#e) Identify the top 5 features:\n",
    "pd.DataFrame(RF_Grid.best_estimator_.feature_importances_,index = X_train.columns,\n",
    "        columns=['importance']).sort_values('importance',ascending=False).iloc[:5,:]"
   ]
  },
  {
   "cell_type": "code",
   "execution_count": 69,
   "metadata": {},
   "outputs": [
    {
     "name": "stdout",
     "output_type": "stream",
     "text": [
      "             precision    recall  f1-score   support\n",
      "\n",
      "          0       0.97      0.99      0.98     17265\n",
      "          1       0.96      0.91      0.93      5527\n",
      "\n",
      "avg / total       0.97      0.97      0.97     22792\n",
      "\n"
     ]
    }
   ],
   "source": [
    "#f) \n",
    "y_pred_train = clf.predict(X_train)\n",
    "print(classification_report(y_train,y_pred_train))"
   ]
  },
  {
   "cell_type": "markdown",
   "metadata": {},
   "source": [
    "The model is slightly overfitted as we are returnced an average accuracy of 97% for our \n",
    "training data while our test data returned an accuracy  of 87%. "
   ]
  },
  {
   "cell_type": "code",
   "execution_count": 18,
   "metadata": {},
   "outputs": [
    {
     "data": {
      "text/plain": [
       "GridSearchCV(cv=10, error_score='raise',\n",
       "       estimator=GradientBoostingClassifier(criterion='friedman_mse', init=None,\n",
       "              learning_rate=0.1, loss='deviance', max_depth=3,\n",
       "              max_features=None, max_leaf_nodes=None,\n",
       "              min_impurity_decrease=0.0, min_impurity_split=None,\n",
       "              min_samples_leaf=1, min_samples_split=2,\n",
       "              min_weight_fraction_leaf=0.0, n_estimators=100,\n",
       "              presort='auto', random_state=None, subsample=1.0, verbose=0,\n",
       "              warm_start=False),\n",
       "       fit_params={}, iid=True, n_jobs=-1,\n",
       "       param_grid={'max_depth': [1, 2], 'learning_rate': [0.5, 1], 'random_state': [0], 'n_estimators': [100, 200, 300, 400]},\n",
       "       pre_dispatch='2*n_jobs', refit=True, scoring='roc_auc', verbose=0)"
      ]
     },
     "execution_count": 18,
     "metadata": {},
     "output_type": "execute_result"
    }
   ],
   "source": [
    "#Part 4\n",
    "#a) Use GradientBoostingClassifier along with GridSearchCV\n",
    "param_grid = {'max_depth':[1,2],\n",
    "'learning_rate':[.5,1],\n",
    "'random_state':[0],\n",
    "'n_estimators':[100,200,300,400]}\n",
    "GBC = GridSearchCV(GradientBoostingClassifier(), param_grid, cv=10, n_jobs=-1, scoring='roc_auc')\n",
    "GBC.fit(X_train,y_train)"
   ]
  },
  {
   "cell_type": "code",
   "execution_count": 19,
   "metadata": {},
   "outputs": [
    {
     "name": "stdout",
     "output_type": "stream",
     "text": [
      "[0 1 1 ... 0 1 1]\n",
      "[[0.99197158 0.00802842]\n",
      " [0.39465778 0.60534222]\n",
      " [0.28501753 0.71498247]\n",
      " ...\n",
      " [0.99566338 0.00433662]\n",
      " [0.46147546 0.53852454]\n",
      " [0.00232775 0.99767225]]\n"
     ]
    }
   ],
   "source": [
    "#b) Calculate predictions for the training data & build the classification report & roc_auc_score. Are there signs of overfitting? Why or why not?\n",
    "y_pred = GBC.predict(X_test)\n",
    "print(GBC.predict(X_test))\n",
    "print(GBC.predict_proba(X_test))\n"
   ]
  },
  {
   "cell_type": "code",
   "execution_count": 22,
   "metadata": {},
   "outputs": [
    {
     "name": "stdout",
     "output_type": "stream",
     "text": [
      "             precision    recall  f1-score   support\n",
      "\n",
      "          0       0.94      0.90      0.92      7800\n",
      "          1       0.65      0.77      0.71      1969\n",
      "\n",
      "avg / total       0.88      0.87      0.88      9769\n",
      "\n",
      "[[7000  800]\n",
      " [ 455 1514]]\n"
     ]
    }
   ],
   "source": [
    "#c)\n",
    "print(classification_report(y_pred,y_test))\n",
    "print(confusion_matrix(y_pred,y_test))"
   ]
  },
  {
   "cell_type": "code",
   "execution_count": 23,
   "metadata": {},
   "outputs": [
    {
     "name": "stdout",
     "output_type": "stream",
     "text": [
      "0.796622721056967\n"
     ]
    }
   ],
   "source": [
    "#d)\n",
    "print(roc_auc_score(y_test,y_pred))"
   ]
  },
  {
   "cell_type": "code",
   "execution_count": 41,
   "metadata": {},
   "outputs": [
    {
     "data": {
      "text/html": [
       "<div>\n",
       "<style scoped>\n",
       "    .dataframe tbody tr th:only-of-type {\n",
       "        vertical-align: middle;\n",
       "    }\n",
       "\n",
       "    .dataframe tbody tr th {\n",
       "        vertical-align: top;\n",
       "    }\n",
       "\n",
       "    .dataframe thead th {\n",
       "        text-align: right;\n",
       "    }\n",
       "</style>\n",
       "<table border=\"1\" class=\"dataframe\">\n",
       "  <thead>\n",
       "    <tr style=\"text-align: right;\">\n",
       "      <th></th>\n",
       "      <th>importance</th>\n",
       "    </tr>\n",
       "  </thead>\n",
       "  <tbody>\n",
       "    <tr>\n",
       "      <th>marital_status_Separated</th>\n",
       "      <td>0.376066</td>\n",
       "    </tr>\n",
       "    <tr>\n",
       "      <th>capital_loss</th>\n",
       "      <td>0.070819</td>\n",
       "    </tr>\n",
       "    <tr>\n",
       "      <th>age</th>\n",
       "      <td>0.059577</td>\n",
       "    </tr>\n",
       "    <tr>\n",
       "      <th>capital_gain</th>\n",
       "      <td>0.054312</td>\n",
       "    </tr>\n",
       "    <tr>\n",
       "      <th>hours_per_week</th>\n",
       "      <td>0.050521</td>\n",
       "    </tr>\n",
       "  </tbody>\n",
       "</table>\n",
       "</div>"
      ],
      "text/plain": [
       "                          importance\n",
       "marital_status_Separated    0.376066\n",
       "capital_loss                0.070819\n",
       "age                         0.059577\n",
       "capital_gain                0.054312\n",
       "hours_per_week              0.050521"
      ]
     },
     "execution_count": 41,
     "metadata": {},
     "output_type": "execute_result"
    }
   ],
   "source": [
    "#e) Identify the top 5 features:\n",
    "pd.DataFrame(GBC.best_estimator_.feature_importances_,index = X_train.columns,\n",
    "        columns=['importance']).sort_values('importance',ascending=False).iloc[:5,:]"
   ]
  },
  {
   "cell_type": "code",
   "execution_count": 26,
   "metadata": {},
   "outputs": [
    {
     "name": "stdout",
     "output_type": "stream",
     "text": [
      "             precision    recall  f1-score   support\n",
      "\n",
      "          0       0.90      0.95      0.93     17265\n",
      "          1       0.81      0.69      0.75      5527\n",
      "\n",
      "avg / total       0.88      0.89      0.88     22792\n",
      "\n"
     ]
    }
   ],
   "source": [
    "#f)\n",
    "y_pred_train = GBC.predict(X_train)\n",
    "print(classification_report(y_train,y_pred_train))"
   ]
  },
  {
   "cell_type": "markdown",
   "metadata": {},
   "source": [
    "This model is not overfitted as it retains an accuracy of around 88% from our training model to our test model. "
   ]
  },
  {
   "cell_type": "code",
   "execution_count": 28,
   "metadata": {
    "scrolled": true
   },
   "outputs": [
    {
     "data": {
      "text/plain": [
       "RandomizedSearchCV(cv=10, error_score='raise',\n",
       "          estimator=GradientBoostingClassifier(criterion='friedman_mse', init=None,\n",
       "              learning_rate=0.1, loss='deviance', max_depth=3,\n",
       "              max_features=None, max_leaf_nodes=None,\n",
       "              min_impurity_decrease=0.0, min_impurity_split=None,\n",
       "              min_samples_leaf=1, min_samples_split=2,\n",
       "              min_weight_fraction_leaf=0.0, n_estimators=100,\n",
       "              presort='auto', random_state=None, subsample=1.0, verbose=0,\n",
       "              warm_start=False),\n",
       "          fit_params={}, iid=True, n_iter=10, n_jobs=-1,\n",
       "          param_distributions={'max_depth': [1, 2], 'learning_rate': array([0.1, 0.2, 0.3, 0.4, 0.5, 0.6, 0.7, 0.8, 0.9, 1. , 1.1, 1.2, 1.3,\n",
       "       1.4, 1.5, 1.6]), 'random_state': [0], 'n_estimators': [100, 200, 300, 400]},\n",
       "          pre_dispatch='2*n_jobs', random_state=None, refit=True,\n",
       "          scoring='roc_auc', verbose=0)"
      ]
     },
     "execution_count": 28,
     "metadata": {},
     "output_type": "execute_result"
    }
   ],
   "source": [
    "#Part 5\n",
    "#a) a use the following parameters:\n",
    "param_grid = {'max_depth':[1,2],\n",
    "'learning_rate':np.arange(.1,1.7,.1),\n",
    "'random_state':[0],\n",
    "'n_estimators':[100,200,300,400]}\n",
    "xg = RandomizedSearchCV(GradientBoostingClassifier(), param_grid, cv=10, n_jobs=-1, scoring='roc_auc')\n",
    "xg.fit(X_train,y_train)"
   ]
  },
  {
   "cell_type": "code",
   "execution_count": 29,
   "metadata": {},
   "outputs": [
    {
     "name": "stdout",
     "output_type": "stream",
     "text": [
      "[0 1 1 ... 0 1 1]\n",
      "[[0.99172061 0.00827939]\n",
      " [0.40968564 0.59031436]\n",
      " [0.35345037 0.64654963]\n",
      " ...\n",
      " [0.99494009 0.00505991]\n",
      " [0.4455486  0.5544514 ]\n",
      " [0.00342006 0.99657994]]\n"
     ]
    }
   ],
   "source": [
    "#b) Calculate predictions for the training data & build the classification report & roc_auc_score. Are there signs of overfitting? Why or why not?\n",
    "y_pred = xg.predict(X_test)\n",
    "print(xg.predict(X_test))\n",
    "print(xg.predict_proba(X_test))"
   ]
  },
  {
   "cell_type": "code",
   "execution_count": 30,
   "metadata": {},
   "outputs": [
    {
     "name": "stdout",
     "output_type": "stream",
     "text": [
      "             precision    recall  f1-score   support\n",
      "\n",
      "          0       0.94      0.90      0.92      7831\n",
      "          1       0.65      0.78      0.71      1938\n",
      "\n",
      "avg / total       0.88      0.87      0.88      9769\n",
      "\n",
      "[[7019  812]\n",
      " [ 436 1502]]\n"
     ]
    }
   ],
   "source": [
    "#c)\n",
    "print(classification_report(y_pred,y_test))\n",
    "print(confusion_matrix(y_pred,y_test))"
   ]
  },
  {
   "cell_type": "code",
   "execution_count": 31,
   "metadata": {},
   "outputs": [
    {
     "name": "stdout",
     "output_type": "stream",
     "text": [
      "0.7953041208936129\n"
     ]
    }
   ],
   "source": [
    "#d)\n",
    "print(roc_auc_score(y_test,y_pred))"
   ]
  },
  {
   "cell_type": "code",
   "execution_count": 42,
   "metadata": {},
   "outputs": [
    {
     "data": {
      "text/html": [
       "<div>\n",
       "<style scoped>\n",
       "    .dataframe tbody tr th:only-of-type {\n",
       "        vertical-align: middle;\n",
       "    }\n",
       "\n",
       "    .dataframe tbody tr th {\n",
       "        vertical-align: top;\n",
       "    }\n",
       "\n",
       "    .dataframe thead th {\n",
       "        text-align: right;\n",
       "    }\n",
       "</style>\n",
       "<table border=\"1\" class=\"dataframe\">\n",
       "  <thead>\n",
       "    <tr style=\"text-align: right;\">\n",
       "      <th></th>\n",
       "      <th>importance</th>\n",
       "    </tr>\n",
       "  </thead>\n",
       "  <tbody>\n",
       "    <tr>\n",
       "      <th>capital_gain</th>\n",
       "      <td>0.122555</td>\n",
       "    </tr>\n",
       "    <tr>\n",
       "      <th>capital_loss</th>\n",
       "      <td>0.120927</td>\n",
       "    </tr>\n",
       "    <tr>\n",
       "      <th>age</th>\n",
       "      <td>0.077467</td>\n",
       "    </tr>\n",
       "    <tr>\n",
       "      <th>hours_per_week</th>\n",
       "      <td>0.076557</td>\n",
       "    </tr>\n",
       "    <tr>\n",
       "      <th>education_num</th>\n",
       "      <td>0.065115</td>\n",
       "    </tr>\n",
       "  </tbody>\n",
       "</table>\n",
       "</div>"
      ],
      "text/plain": [
       "                importance\n",
       "capital_gain      0.122555\n",
       "capital_loss      0.120927\n",
       "age               0.077467\n",
       "hours_per_week    0.076557\n",
       "education_num     0.065115"
      ]
     },
     "execution_count": 42,
     "metadata": {},
     "output_type": "execute_result"
    }
   ],
   "source": [
    "#e) Identify the top 5 features:\n",
    "pd.DataFrame(xg.best_estimator_.feature_importances_,index = X_train.columns,\n",
    "        columns=['importance']).sort_values('importance',ascending=False).iloc[:5,:]"
   ]
  },
  {
   "cell_type": "code",
   "execution_count": 44,
   "metadata": {},
   "outputs": [
    {
     "name": "stdout",
     "output_type": "stream",
     "text": [
      "             precision    recall  f1-score   support\n",
      "\n",
      "          0       0.90      0.95      0.92     17265\n",
      "          1       0.80      0.67      0.73      5527\n",
      "\n",
      "avg / total       0.88      0.88      0.88     22792\n",
      "\n"
     ]
    }
   ],
   "source": [
    "#f)\n",
    "y_pred_train = xg.predict(X_train)\n",
    "print(classification_report(y_train,y_pred_train))"
   ]
  },
  {
   "cell_type": "markdown",
   "metadata": {},
   "source": [
    "This model is not overfitted as it retains an accuracy of around 88% from our training model to our test model. "
   ]
  },
  {
   "cell_type": "markdown",
   "metadata": {},
   "source": [
    "a) What does the alpha parameter represent in AdaBoost? Please refer to chapter 7 of the Hands-On ML book if you are struggling.\n",
    "Alpha is the weight that is applied to a classifier. The first time the model is trained, alpha will be weighted equally for all classifiers. The alpha will decrease for a given paramter as it's misclassifications increase. The equations for alpha is the number of missclassifications over the training set divided by the training size.\n",
    "alpha = .5*ln((1-Miss_err)/Tot_err)\n",
    "\n",
    "b) In AdaBoost explain how the final predicted class is determined. Be sure to reference the alpha term in your explanation.\n",
    "In Adaboost, each feature is used as a decsion tree (aka a stump due to 1 paramter) for the dependent variable. Parametrs are given weights as to how well they can classify the dependent variable. Within each parameter classification, each sample has an equal weight before the first model. The misclassified samples will then take on a higher weight comparatively towards the samples that were correctly classified since we want out parameter to be able to capture these misclassified samples. The misclassified samples will take the (original weight)*e^(-alpha*actual*predicted). \n",
    "\n",
    "\n",
    "c) In Gradient Boosting, what is the role of the max_depth parameter? Why is it important to tune on this parameter?\n",
    "The max depth indicates how deep our tree can be built out. The deeper you allow a tree to be built out, the higher possibility you can have an overfitted mode. It is important to tune this parameter so that you don't overfit the model. \n",
    "\n",
    "d) In Part (e) of Steps 2-5 you determined the top 5 predictors across each model. Do any predictors show up in the top 5 predictors for all three models? If so, comment on if this predictor makes sense given what you are attempting to predict. (Note: If you don't have any predictors showing up across all 3 predictors, explain one that shows up in 2 of them). Age, Capital Gain, and Capital loss showed up across all the models as one of the top 5 determinants for our dependent variable. It seems the older you are, the more likely you are to make more than 50K a year. If you have high capital gains and losses, it means you have a lot of money in the market which typically means that person is a large amount of disposable income that isn't needed for essential goods.\n",
    "\n",
    "e) From the models run in steps 2-5, which performs the best based on the Classification Report? Support your reasoning with evidence from your test data and be sure to share the optimal hyperparameters found from your grid search.\n",
    "\n",
    "f) For your best performing model, plot out a ROC curve using your test data. Feel free to use sklearn, matplotlib or any other method in python. Describe what the x-axis & y-axis of the ROC curve tell us about a classifier."
   ]
  },
  {
   "cell_type": "markdown",
   "metadata": {},
   "source": [
    "e) From the models run in steps 2-5, which performs the best based on the Classification Report? Support your reasoning with evidence from your test data and be sure to share the optimal hyperparameters found from your grid search.\n",
    "The GradientBoostingClassifier along with GridSearchCV returned the high roc_auc_score with a value of .797.\n",
    "The hyperparameters are in the cell below. \n",
    "\n",
    "\n"
   ]
  },
  {
   "cell_type": "code",
   "execution_count": 73,
   "metadata": {},
   "outputs": [
    {
     "data": {
      "text/plain": [
       "{'criterion': 'friedman_mse',\n",
       " 'init': None,\n",
       " 'learning_rate': 0.5,\n",
       " 'loss': 'deviance',\n",
       " 'max_depth': 2,\n",
       " 'max_features': None,\n",
       " 'max_leaf_nodes': None,\n",
       " 'min_impurity_decrease': 0.0,\n",
       " 'min_impurity_split': None,\n",
       " 'min_samples_leaf': 1,\n",
       " 'min_samples_split': 2,\n",
       " 'min_weight_fraction_leaf': 0.0,\n",
       " 'n_estimators': 400,\n",
       " 'presort': 'auto',\n",
       " 'random_state': 0,\n",
       " 'subsample': 1.0,\n",
       " 'verbose': 0,\n",
       " 'warm_start': False}"
      ]
     },
     "execution_count": 73,
     "metadata": {},
     "output_type": "execute_result"
    }
   ],
   "source": [
    "GBC.best_estimator_.get_params()"
   ]
  },
  {
   "cell_type": "code",
   "execution_count": 74,
   "metadata": {},
   "outputs": [
    {
     "name": "stdout",
     "output_type": "stream",
     "text": [
      "Collecting ggplot\n",
      "  Using cached https://files.pythonhosted.org/packages/48/04/5c88cc51c6713583f2dc78a5296adb9741505348c323d5875bc976143db2/ggplot-0.11.5-py2.py3-none-any.whl\n",
      "Requirement already satisfied: pandas in c:\\users\\u353822\\appdata\\local\\continuum\\anaconda3\\lib\\site-packages (from ggplot) (0.22.0)\n",
      "Requirement already satisfied: patsy>=0.4 in c:\\users\\u353822\\appdata\\local\\continuum\\anaconda3\\lib\\site-packages (from ggplot) (0.5.0)\n",
      "Requirement already satisfied: numpy in c:\\users\\u353822\\appdata\\local\\continuum\\anaconda3\\lib\\site-packages (from ggplot) (1.14.2)\n",
      "Requirement already satisfied: matplotlib in c:\\users\\u353822\\appdata\\local\\continuum\\anaconda3\\lib\\site-packages (from ggplot) (2.2.2)\n",
      "Requirement already satisfied: scipy in c:\\users\\u353822\\appdata\\local\\continuum\\anaconda3\\lib\\site-packages (from ggplot) (1.0.0)\n",
      "Requirement already satisfied: cycler in c:\\users\\u353822\\appdata\\local\\continuum\\anaconda3\\lib\\site-packages (from ggplot) (0.10.0)\n",
      "Requirement already satisfied: six in c:\\users\\u353822\\appdata\\local\\continuum\\anaconda3\\lib\\site-packages (from ggplot) (1.11.0)\n",
      "Collecting brewer2mpl (from ggplot)\n",
      "  Using cached https://files.pythonhosted.org/packages/84/57/00c45a199719e617db0875181134fcb3aeef701deae346547ac722eaaf5e/brewer2mpl-1.4.1-py2.py3-none-any.whl\n",
      "Requirement already satisfied: statsmodels in c:\\users\\u353822\\appdata\\local\\continuum\\anaconda3\\lib\\site-packages (from ggplot) (0.8.0)\n",
      "Requirement already satisfied: python-dateutil>=2 in c:\\users\\u353822\\appdata\\local\\continuum\\anaconda3\\lib\\site-packages (from pandas->ggplot) (2.6.1)\n",
      "Requirement already satisfied: pytz>=2011k in c:\\users\\u353822\\appdata\\local\\continuum\\anaconda3\\lib\\site-packages (from pandas->ggplot) (2017.3)\n",
      "Requirement already satisfied: pyparsing!=2.0.4,!=2.1.2,!=2.1.6,>=2.0.1 in c:\\users\\u353822\\appdata\\local\\continuum\\anaconda3\\lib\\site-packages (from matplotlib->ggplot) (2.2.0)\n",
      "Requirement already satisfied: kiwisolver>=1.0.1 in c:\\users\\u353822\\appdata\\local\\continuum\\anaconda3\\lib\\site-packages (from matplotlib->ggplot) (1.0.1)\n",
      "Requirement already satisfied: setuptools in c:\\users\\u353822\\appdata\\local\\continuum\\anaconda3\\lib\\site-packages (from kiwisolver>=1.0.1->matplotlib->ggplot) (38.4.0)\n",
      "Installing collected packages: brewer2mpl, ggplot\n",
      "Successfully installed brewer2mpl-1.4.1 ggplot-0.11.5\n"
     ]
    },
    {
     "name": "stderr",
     "output_type": "stream",
     "text": [
      "You are using pip version 18.1, however version 19.0.2 is available.\n",
      "You should consider upgrading via the 'python -m pip install --upgrade pip' command.\n",
      "C:\\Users\\u353822\\AppData\\Local\\Continuum\\anaconda3\\lib\\site-packages\\ggplot\\utils.py:81: FutureWarning: pandas.tslib is deprecated and will be removed in a future version.\n",
      "You can access Timestamp as pandas.Timestamp\n",
      "  pd.tslib.Timestamp,\n",
      "C:\\Users\\u353822\\AppData\\Local\\Continuum\\anaconda3\\lib\\site-packages\\ggplot\\stats\\smoothers.py:4: FutureWarning: The pandas.lib module is deprecated and will be removed in a future version. These are private functions and can be accessed from pandas._libs.lib instead\n",
      "  from pandas.lib import Timestamp\n",
      "C:\\Users\\u353822\\AppData\\Local\\Continuum\\anaconda3\\lib\\site-packages\\statsmodels\\compat\\pandas.py:56: FutureWarning: The pandas.core.datetools module is deprecated and will be removed in a future version. Please use the pandas.tseries module instead.\n",
      "  from pandas.core import datetools\n"
     ]
    }
   ],
   "source": [
    "!pip install ggplot\n",
    "from ggplot import *"
   ]
  },
  {
   "cell_type": "code",
   "execution_count": 82,
   "metadata": {},
   "outputs": [
    {
     "data": {
      "image/png": "[encoded data removed]",
      "text/plain": [
       "<Figure size 792x576 with 1 Axes>"
      ]
     },
     "metadata": {},
     "output_type": "display_data"
    },
    {
     "data": {
      "text/plain": [
       "<ggplot: (29732328)>"
      ]
     },
     "execution_count": 82,
     "metadata": {},
     "output_type": "execute_result"
    }
   ],
   "source": [
    "probs =  GBC.best_estimator_.predict_proba(X_test)\n",
    "preds = probs[:,1]\n",
    "fpr, tpr, threshold = metrics.roc_curve(y_test, preds)\n",
    "roc_auc = metrics.auc(fpr, tpr)\n",
    "df = pd.DataFrame(dict(fpr = fpr, tpr = tpr))\n",
    "ggplot(df, aes(x = 'fpr', y = 'tpr')) + geom_line() + geom_abline(linetype = 'dashed')"
   ]
  },
  {
   "cell_type": "markdown",
   "metadata": {},
   "source": [
    "f) For your best performing model, plot out a ROC curve using your test data. Feel free to use sklearn, matplotlib or any other method in python. Describe what the x-axis & y-axis of the ROC curve tell us about a classifier.\n",
    "The y-axis for the ROC curve is the true positive rate (True positives / Total population positives) while the x axis is the false positive rate. The equation for FPR is a bit trickier. FPR = 1 - specificity....  1 - (True negatives / Total population negatives). The decimal returned by the roc curve looks at the probability that the model will be able to determine class seperation. "
   ]
  }
 ],
 "metadata": {
  "kernelspec": {
   "display_name": "Python 3",
   "language": "python",
   "name": "python3"
  },
  "language_info": {
   "codemirror_mode": {
    "name": "ipython",
    "version": 3
   },
   "file_extension": ".py",
   "mimetype": "text/x-python",
   "name": "python",
   "nbconvert_exporter": "python",
   "pygments_lexer": "ipython3",
   "version": "3.7.1"
  }
 },
 "nbformat": 4,
 "nbformat_minor": 2
}
