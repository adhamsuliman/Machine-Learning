{
 "cells": [
  {
   "cell_type": "code",
   "execution_count": 1,
   "metadata": {},
   "outputs": [],
   "source": [
    "import pandas as pd\n",
    "import numpy as np\n",
    "from sklearn.model_selection import train_test_split\n",
    "from sklearn.preprocessing import StandardScaler\n",
    "from sklearn.linear_model import LinearRegression\n",
    "import sklearn.metrics as skm\n",
    "import matplotlib.pyplot as plt"
   ]
  },
  {
   "cell_type": "code",
   "execution_count": 2,
   "metadata": {},
   "outputs": [],
   "source": [
    "df = pd.read_csv(r'C:\\Users\\u353822\\Documents\\GitHub\\University-of-Chicago1\\University of Chicago\\Machine Learning\\HW1\\bottle.csv', low_memory=False)"
   ]
  },
  {
   "cell_type": "code",
   "execution_count": 3,
   "metadata": {},
   "outputs": [
    {
     "name": "stdout",
     "output_type": "stream",
     "text": [
      "(661268, 5)\n"
     ]
    }
   ],
   "source": [
    "#Part A \n",
    "#1 We will increase the complexity of our model slightly by increasing the number of features.\n",
    "#2 Remove NaN / NA values from dataset (prior to building train/test sets) (same as HW #1):\n",
    "df = df[['T_degC', 'Salnty', 'STheta' , 'O2ml_L', 'Depthm']]\n",
    "df = df.dropna(how='any')\n",
    "print(df.shape)"
   ]
  },
  {
   "cell_type": "code",
   "execution_count": 4,
   "metadata": {},
   "outputs": [
    {
     "data": {
      "text/plain": [
       "(661268, 5)"
      ]
     },
     "execution_count": 4,
     "metadata": {},
     "output_type": "execute_result"
    }
   ],
   "source": [
    "#Part A \n",
    "#3 Remove any STheta outliers (same as HW #1). \n",
    "df = df[np.abs(df.STheta -df.STheta.mean()) <= (5*df.STheta.std())]\n",
    "df.shape"
   ]
  },
  {
   "cell_type": "code",
   "execution_count": 5,
   "metadata": {},
   "outputs": [],
   "source": [
    "#Part B \n",
    "#1  Create X & y objects\n",
    "X = df[['Salnty', 'STheta' , 'O2ml_L', 'Depthm']]\n",
    "y = df['T_degC']\n",
    "y = np.asarray(y)\n",
    "y = y.reshape(len(y),1)"
   ]
  },
  {
   "cell_type": "code",
   "execution_count": 6,
   "metadata": {},
   "outputs": [],
   "source": [
    "#Part B \n",
    "#2  Generate X_train, X_test, y_train & y_test. \n",
    "X_train , X_test, y_train, y_test=  train_test_split(X,y, test_size=0.2, random_state=42)"
   ]
  },
  {
   "cell_type": "code",
   "execution_count": 7,
   "metadata": {},
   "outputs": [],
   "source": [
    "#Part B \n",
    "#3 Scale all features to improve convergence in Gradient Descent\n",
    "scaler = StandardScaler()\n",
    "X_train_scaled = scaler.fit_transform(X_train)\n",
    "X_test_scaled = scaler.transform(X_test)"
   ]
  },
  {
   "cell_type": "code",
   "execution_count": 8,
   "metadata": {
    "scrolled": true
   },
   "outputs": [
    {
     "name": "stdout",
     "output_type": "stream",
     "text": [
      "[[ 1.63046569 -4.6345913   0.3020677  -0.47495536]] [10.91541795]\n"
     ]
    }
   ],
   "source": [
    "#Part C \n",
    "#1 Create an instance of the LinearRegression class called \"lin_reg\". Fit lin_reg using X_train_scaled & y_train. \n",
    "#2 Print out the coefficients (including the intercept)\n",
    "lin_reg = LinearRegression()\n",
    "lin_reg.fit(X_train_scaled, y_train)\n",
    "print(lin_reg.coef_, lin_reg.intercept_)"
   ]
  },
  {
   "cell_type": "code",
   "execution_count": 9,
   "metadata": {},
   "outputs": [],
   "source": [
    "#Part C \n",
    "#3  Predict T_degC for the test data using lin_reg\n",
    "y_pred_sklearn = lin_reg.predict(X_test_scaled)"
   ]
  },
  {
   "cell_type": "code",
   "execution_count": 10,
   "metadata": {},
   "outputs": [
    {
     "name": "stdout",
     "output_type": "stream",
     "text": [
      "0.1110111720543363 0.9937682503632342 0.9937684088237414\n"
     ]
    }
   ],
   "source": [
    "#Part C \n",
    "#4 Calculate the following for the test data\n",
    "print(skm.mean_squared_error(y_test,y_pred_sklearn),skm.r2_score(y_test,y_pred_sklearn),skm.explained_variance_score(y_test,y_pred_sklearn))"
   ]
  },
  {
   "cell_type": "code",
   "execution_count": 11,
   "metadata": {},
   "outputs": [
    {
     "data": {
      "image/png": "[encoded data removed]",
      "text/plain": [
       "<Figure size 432x288 with 1 Axes>"
      ]
     },
     "metadata": {},
     "output_type": "display_data"
    }
   ],
   "source": [
    "# Part C \n",
    "#5 Create a scatterplot that shows actual versus predicted values for the T_degC\n",
    "plt.scatter(y_test,y_pred_sklearn)\n",
    "plt.show()"
   ]
  },
  {
   "cell_type": "code",
   "execution_count": 12,
   "metadata": {},
   "outputs": [],
   "source": [
    "#Part D \n",
    "#1 add a column of 1s to X_train_scaled and X_test_scaled\n",
    "X_train_b0 = np.ones(shape=(X_train_scaled.shape[0],1))\n",
    "X_test_b0 = np.ones(shape=(X_test_scaled.shape[0],1))\n",
    "X_train_all = np.concatenate((X_train_b0, X_train_scaled),1)\n",
    "X_test_all = np.concatenate((X_test_b0, X_test_scaled),1)"
   ]
  },
  {
   "cell_type": "code",
   "execution_count": 13,
   "metadata": {},
   "outputs": [
    {
     "data": {
      "text/plain": [
       "(132254, 5)"
      ]
     },
     "execution_count": 13,
     "metadata": {},
     "output_type": "execute_result"
    }
   ],
   "source": [
    "X_test_all.shape"
   ]
  },
  {
   "cell_type": "code",
   "execution_count": 14,
   "metadata": {},
   "outputs": [
    {
     "name": "stdout",
     "output_type": "stream",
     "text": [
      "MSE, r-squared, and explained variance for test data\n",
      "0.11152883696530862 0.9937391906023001 0.9937419971480342\n",
      "MSE by epochs\n"
     ]
    },
    {
     "data": {
      "image/png": "[encoded data removed]",
      "text/plain": [
       "<Figure size 432x288 with 1 Axes>"
      ]
     },
     "metadata": {},
     "output_type": "display_data"
    },
    {
     "name": "stdout",
     "output_type": "stream",
     "text": [
      "Create a scatterplot that shows actual versus predicted values for the T_degC for the test data.\n"
     ]
    },
    {
     "data": {
      "image/png": "[encoded data removed]",
      "text/plain": [
       "<Figure size 432x288 with 1 Axes>"
      ]
     },
     "metadata": {},
     "output_type": "display_data"
    },
    {
     "name": "stdout",
     "output_type": "stream",
     "text": [
      "MSE, r-squared, and explained variance for train data\n",
      "0.11116875268393259 0.9937737310738569 0.993778055523505\n"
     ]
    }
   ],
   "source": [
    "#Part D\n",
    "#3 Feel free to use any value for eta and epochs, but 0.1 eta and 100 epochs should work fine for this HW.\n",
    "eta = .01\n",
    "epochs = 100\n",
    "minibatch_size = 50\n",
    "m = len(y_train)\n",
    "\n",
    "#Initialize random theta values to start\n",
    "np.random.seed(42)\n",
    "theta = np.random.randn(5,1)\n",
    "\n",
    "#Initialize empty list\n",
    "cost_list = []\n",
    "iter_list=[]\n",
    "gradient_list=[]\n",
    "\n",
    "j=0\n",
    "\n",
    "for epoch in range(epochs):\n",
    "    shuffled_indices = np.random.permutation(m)    \n",
    "    X_b_shuffled = X_train_all[shuffled_indices]\n",
    "    y_shuffled = y_train[shuffled_indices]\n",
    "\n",
    "    for i in range(0,m,minibatch_size):\n",
    "        xi = X_b_shuffled[i:i+minibatch_size]\n",
    "        yi = y_shuffled[i:i+minibatch_size]\n",
    "        gradients = 2/minibatch_size *xi.T.dot(xi.dot(theta)-yi)\n",
    "        theta = theta - eta * gradients\n",
    "        \n",
    "    gradient_list.append(gradients)\n",
    "\n",
    "    #2 The cost function we will use for Gradient Descent is MSE \n",
    "    cost_function = skm.mean_squared_error((X_test_all.dot(theta)), y_test)\n",
    "    cost_list.append(cost_function)\n",
    "    iter_list.append(j)\n",
    "    j += 1\n",
    "    \n",
    "#Part D\n",
    "#4 Calculate the following for the test data:\n",
    "#- mean squared error\n",
    "#- r-squared \n",
    "#- explained variance\n",
    "y_pred = X_test_all.dot(theta) \n",
    "print(\"MSE, r-squared, and explained variance for test data\")\n",
    "print(skm.mean_squared_error(y_test, y_pred),skm.r2_score(y_test,y_pred),skm.explained_variance_score(y_test,y_pred))\n",
    "\n",
    "\n",
    "print(\"MSE by epochs\")\n",
    "plt.scatter(iter_list, cost_list)\n",
    "plt.xlabel('Epochs')\n",
    "plt.ylabel('MSE')\n",
    "plt.show()\n",
    "print(\"Create a scatterplot that shows actual versus predicted values for the T_degC for the test data.\")\n",
    "plt.scatter(y_test,y_pred)\n",
    "plt.xlabel('Y test')\n",
    "plt.ylabel('Predicted Y')\n",
    "plt.show()\n",
    "\n",
    "\n",
    "#Part D\n",
    "#6 Given we are estimating parameters through gradient descent we also want to check how our error metrics look for training data.\n",
    "y_pred_train = X_train_all.dot(theta)\n",
    "print(\"MSE, r-squared, and explained variance for train data\")\n",
    "print(skm.mean_squared_error(y_train, y_pred_train),skm.r2_score(y_train,y_pred_train),skm.explained_variance_score(y_train,y_pred_train))"
   ]
  },
  {
   "cell_type": "code",
   "execution_count": 15,
   "metadata": {},
   "outputs": [
    {
     "name": "stdout",
     "output_type": "stream",
     "text": [
      "MSE, r-squared, and explained variance for test data\n",
      "0.11102439226420989 0.9937675082303791 0.9937675085547484\n",
      "MSE by epochs\n"
     ]
    },
    {
     "data": {
      "image/png": "[encoded data removed]",
      "text/plain": [
       "<Figure size 432x288 with 1 Axes>"
      ]
     },
     "metadata": {},
     "output_type": "display_data"
    },
    {
     "name": "stdout",
     "output_type": "stream",
     "text": [
      "Create a scatterplot that shows actual versus predicted values for the T_degC for the test data.\n"
     ]
    },
    {
     "data": {
      "image/png": "[encoded data removed]",
      "text/plain": [
       "<Figure size 432x288 with 1 Axes>"
      ]
     },
     "metadata": {},
     "output_type": "display_data"
    },
    {
     "name": "stdout",
     "output_type": "stream",
     "text": [
      "MSE, r-squared, and explained variance for train data\n",
      "0.11062210325802208 0.9938043474678693 0.9938044923958621\n"
     ]
    }
   ],
   "source": [
    "#Part D\n",
    "#3 Feel free to use any value for eta and epochs, but 0.1 eta and 100 epochs should work fine for this HW.\n",
    "eta = .01\n",
    "epochs = 100\n",
    "minibatch_size = 250\n",
    "m = len(y_train)\n",
    "\n",
    "#Initialize random theta values to start\n",
    "np.random.seed(42)\n",
    "theta = np.random.randn(5,1)\n",
    "\n",
    "#Initialize empty list\n",
    "cost_list = []\n",
    "iter_list=[]\n",
    "gradient_list=[]\n",
    "\n",
    "j=0\n",
    "\n",
    "for epoch in range(epochs):\n",
    "    shuffled_indices = np.random.permutation(m)    \n",
    "    X_b_shuffled = X_train_all[shuffled_indices]\n",
    "    y_shuffled = y_train[shuffled_indices]\n",
    "\n",
    "    for i in range(0,m,minibatch_size):\n",
    "        xi = X_b_shuffled[i:i+minibatch_size]\n",
    "        yi = y_shuffled[i:i+minibatch_size]\n",
    "        gradients = 2/minibatch_size *xi.T.dot(xi.dot(theta)-yi)\n",
    "        theta = theta - eta * gradients\n",
    "        \n",
    "    gradient_list.append(gradients)\n",
    "\n",
    "    #2 The cost function we will use for Gradient Descent is MSE \n",
    "    cost_function = skm.mean_squared_error((X_test_all.dot(theta)), y_test)\n",
    "    cost_list.append(cost_function)\n",
    "    iter_list.append(j)\n",
    "    j += 1\n",
    "    \n",
    "#Part D\n",
    "#4 Calculate the following for the test data:\n",
    "#- mean squared error\n",
    "#- r-squared \n",
    "#- explained variance\n",
    "y_pred = X_test_all.dot(theta) \n",
    "print(\"MSE, r-squared, and explained variance for test data\")\n",
    "print(skm.mean_squared_error(y_test, y_pred),skm.r2_score(y_test,y_pred),skm.explained_variance_score(y_test,y_pred))\n",
    "\n",
    "\n",
    "print(\"MSE by epochs\")\n",
    "plt.scatter(iter_list, cost_list)\n",
    "plt.xlabel('Epochs')\n",
    "plt.ylabel('MSE')\n",
    "plt.show()\n",
    "print(\"Create a scatterplot that shows actual versus predicted values for the T_degC for the test data.\")\n",
    "plt.scatter(y_test,y_pred)\n",
    "plt.xlabel('Y test')\n",
    "plt.ylabel('Predicted Y')\n",
    "plt.show()\n",
    "\n",
    "\n",
    "#Part D\n",
    "#6 Given we are estimating parameters through gradient descent we also want to check how our error metrics look for training data.\n",
    "y_pred_train = X_train_all.dot(theta)\n",
    "print(\"MSE, r-squared, and explained variance for train data\")\n",
    "print(skm.mean_squared_error(y_train, y_pred_train),skm.r2_score(y_train,y_pred_train),skm.explained_variance_score(y_train,y_pred_train))"
   ]
  },
  {
   "cell_type": "code",
   "execution_count": 16,
   "metadata": {},
   "outputs": [
    {
     "name": "stdout",
     "output_type": "stream",
     "text": [
      "MSE, r-squared, and explained variance for test data\n",
      "0.11101307654956008 0.993768143452036 0.9937682222787135\n",
      "MSE by epochs\n"
     ]
    },
    {
     "data": {
      "image/png": "[encoded data removed]",
      "text/plain": [
       "<Figure size 432x288 with 1 Axes>"
      ]
     },
     "metadata": {},
     "output_type": "display_data"
    },
    {
     "name": "stdout",
     "output_type": "stream",
     "text": [
      "Create a scatterplot that shows actual versus predicted values for the T_degC for the test data.\n"
     ]
    },
    {
     "data": {
      "image/png": "[encoded data removed]",
      "text/plain": [
       "<Figure size 432x288 with 1 Axes>"
      ]
     },
     "metadata": {},
     "output_type": "display_data"
    },
    {
     "name": "stdout",
     "output_type": "stream",
     "text": [
      "MSE, r-squared, and explained variance for train data\n",
      "0.11059766038765509 0.9938057164486356 0.9938057302206429\n"
     ]
    }
   ],
   "source": [
    "#Part D\n",
    "#3 Feel free to use any value for eta and epochs, but 0.1 eta and 100 epochs should work fine for this HW.\n",
    "eta = .01\n",
    "epochs = 100\n",
    "minibatch_size = 2000\n",
    "m = len(y_train)\n",
    "\n",
    "#Initialize random theta values to start\n",
    "np.random.seed(42)\n",
    "theta = np.random.randn(5,1)\n",
    "\n",
    "#Initialize empty list\n",
    "cost_list = []\n",
    "iter_list=[]\n",
    "gradient_list=[]\n",
    "\n",
    "j=0\n",
    "\n",
    "for epoch in range(epochs):\n",
    "    shuffled_indices = np.random.permutation(m)    \n",
    "    X_b_shuffled = X_train_all[shuffled_indices]\n",
    "    y_shuffled = y_train[shuffled_indices]\n",
    "\n",
    "    for i in range(0,m,minibatch_size):\n",
    "        xi = X_b_shuffled[i:i+minibatch_size]\n",
    "        yi = y_shuffled[i:i+minibatch_size]\n",
    "        gradients = 2/minibatch_size *xi.T.dot(xi.dot(theta)-yi)\n",
    "        theta = theta - eta * gradients\n",
    "        \n",
    "    gradient_list.append(gradients)\n",
    "\n",
    "    #2 The cost function we will use for Gradient Descent is MSE \n",
    "    cost_function = skm.mean_squared_error((X_test_all.dot(theta)), y_test)\n",
    "    cost_list.append(cost_function)\n",
    "    iter_list.append(j)\n",
    "    j += 1\n",
    "    \n",
    "#Part D\n",
    "#4 Calculate the following for the test data:\n",
    "#- mean squared error\n",
    "#- r-squared \n",
    "#- explained variance\n",
    "y_pred = X_test_all.dot(theta) \n",
    "print(\"MSE, r-squared, and explained variance for test data\")\n",
    "print(skm.mean_squared_error(y_test, y_pred),skm.r2_score(y_test,y_pred),skm.explained_variance_score(y_test,y_pred))\n",
    "\n",
    "\n",
    "print(\"MSE by epochs\")\n",
    "plt.scatter(iter_list, cost_list)\n",
    "plt.xlabel('Epochs')\n",
    "plt.ylabel('MSE')\n",
    "plt.show()\n",
    "print(\"Create a scatterplot that shows actual versus predicted values for the T_degC for the test data.\")\n",
    "plt.scatter(y_test,y_pred)\n",
    "plt.xlabel('Y test')\n",
    "plt.ylabel('Predicted Y')\n",
    "plt.show()\n",
    "\n",
    "\n",
    "#Part D\n",
    "#6 Given we are estimating parameters through gradient descent we also want to check how our error metrics look for training data.\n",
    "y_pred_train = X_train_all.dot(theta)\n",
    "print(\"MSE, r-squared, and explained variance for train data\")\n",
    "print(skm.mean_squared_error(y_train, y_pred_train),skm.r2_score(y_train,y_pred_train),skm.explained_variance_score(y_train,y_pred_train))"
   ]
  },
  {
   "cell_type": "markdown",
   "metadata": {},
   "source": [
    "Part E: Conceptual Questions\n",
    "\n",
    "1) Describe how parameter estimation in Gradient Descent differs from using the normal equation.\n",
    "Parameter estimation through the normal equation is solved through B=((X'X)^-1)X'Y which can be computationally expensive when solving for thousands of parameters with very large data sets. Paremeter estimation through Gradient Descent differs in that it uses a different equation in an attempt to obtain the most precise slope(s) and intercept. A cost function is used in Gradient Descent which measures how well a set of parameters fits the training data. As the line gains a better fit of the data through the new parameters, the cost function will be reduced. For example, Lets say we have a line with two parameters which are attempting to predict another paramter. If we were to plot all potential combinations of the two parameters with the associated cost function, we would find the cost functiuon to have a valley shape. With gradient descent, we attempt to move towards the bottom of the valley to find the minimum loss of our cost function with the associated intercept and slope parameters. The speed with which our function moves down this valey is called the Learning Rate parameter. The Gradient parameter tells us how much we need to mutliply our learning rate which will then be reduced from our theta in the equation theta = theta - learning_rate * gradient. The larger the gradient, the more theta will be reduced and the faster we will move towards the bottom of the valley. As we begin reaching the bottom of the valley, the gradient will become smaller due to the slope approaching 0 which allows the function not to skip pass the minima. Gradient is calculated through the following equation: gradient = 2/minibatch_size *xi.T.dot(xi.dot(theta)-yi). Once the gradient reaches 0 or close to 0, theta will equal theta, and we will have obtained our final coefficients for our parameters. \n",
    "\n",
    "2) We used Mini-Batch Gradient descent here, but there are a variety of options for Gradient Descent. How is Mini-Batch Gradient Descent different from Stochastic Gradient Descent?\n",
    "In SGD, one data point is used for every step within the iterative process of attaining the right theta(s) in hope of moving closer to the minima of our cost function. This process is often noisier than mini batch since only one data point is being analyzed at a time. With Mini-Batch Gradient Descent, a portion of the data (more than one point) is used when calculating the gradient which allows for a speedier process to the local minima since gradient descent is being applied to groups of data points instead of one at a time.\n",
    "\n",
    "3) Identify your best-performing version of Gradient Descent and compare the error metrics for test data vs training data. Does this version of gradient descent show signs of overfitting? Explain.\n",
    "I would argue the different batch sizes produced similar results with regards to how we measured accuracy for this data set. As can be seen below, the differing batch sizes doesn't seem to produce different results when we compare our model did on test data compared to train data. I don't see signs of overfitting because the test data seems to have an equally good fit as the train data for all models. We say this because the MSE, r-squared, and explained variance are nearly the same, regardless of batch size. \n",
    "\n",
    "Batch size: 50\n",
    "MSE, r-squared, and explained variance for test data\n",
    "0.11152883696530862 0.9937391906023001 0.9937419971480342\n",
    "MSE, r-squared, and explained variance for train data\n",
    "0.11116875268393259 0.9937737310738569 0.993778055523505\n",
    "\n",
    "Batch size: 250\n",
    "MSE, r-squared, and explained variance for test data\n",
    "0.11102439226420989 0.9937675082303791 0.9937675085547484\n",
    "MSE, r-squared, and explained variance for train data\n",
    "0.11062210325802208 0.9938043474678693 0.9938044923958621\n",
    "\n",
    "Batch size: 2000\n",
    "MSE, r-squared, and explained variance for test data\n",
    "0.11101307654956008 0.993768143452036 0.9937682222787135\n",
    "MSE, r-squared, and explained variance for train data\n",
    "0.11059766038765509 0.9938057164486356 0.9938057302206429\n",
    "\n",
    "4) Explain what the learning rate is for. Even though we did not, why might it be helpful to change the learning rate over time?\n",
    "Learning rate is a hyper-parameter that controls how much we are adjusting the weights of our network with respect to the loss gradient. The lower the value, the slower we travel along toward the minima. This is expressed through the equation theta = theta - learning_rate * gradient, where theta will slowly be reduced because of a low learning rate.  While using a low learning rate may be wise in terms of making sure that we do not miss any local minima, it could also mean that we’ll be taking a long time to converge — especially if we get stuck on a plateau region. When setting your learning rate, a larger rate should initially be used to move down towards the minima of the loss function. It is often helpful to change the learning rate to a lower number once we have begun reaching the bottom of the cost function to pin point the narrowest part of the loss function in order to obtain the most accurate readings for our parameters.  \n",
    "\n",
    "5) Why would a data scientist want to use early stopping in gradient descent?\n",
    "When our test accuracy begins decreasing within the iterative process of gradient descent, the model is being overfitted to the training data, and the model must stop being trained on the train data to stop overfitting. Early stopping provides guidance as to how many iterations can be run before the model begins to over-fit the training data. We don't want to over-fit our model on the training data because it will provide a bad fit for our test data. "
   ]
  }
 ],
 "metadata": {
  "kernelspec": {
   "display_name": "Python 3",
   "language": "python",
   "name": "python3"
  },
  "language_info": {
   "codemirror_mode": {
    "name": "ipython",
    "version": 3
   },
   "file_extension": ".py",
   "mimetype": "text/x-python",
   "name": "python",
   "nbconvert_exporter": "python",
   "pygments_lexer": "ipython3",
   "version": "3.7.1"
  }
 },
 "nbformat": 4,
 "nbformat_minor": 2
}
